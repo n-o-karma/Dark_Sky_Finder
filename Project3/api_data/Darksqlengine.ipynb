{
 "cells": [
  {
   "cell_type": "code",
   "execution_count": 1,
   "id": "3f1819ee-5cda-4622-9198-a6c4f1edde8d",
   "metadata": {},
   "outputs": [],
   "source": [
    "import numpy as np\n",
    "import pandas as pd\n",
    "from pathlib import Path"
   ]
  },
  {
   "cell_type": "code",
   "execution_count": 2,
   "id": "c83b67a8-c9c4-425b-acc7-cf2f1175bdd0",
   "metadata": {},
   "outputs": [],
   "source": [
    "# Python SQL toolkit and Object Relational Mapper\n",
    "import sqlalchemy\n",
    "from sqlalchemy.ext.automap import automap_base\n",
    "from sqlalchemy.orm import Session\n",
    "from sqlalchemy import create_engine, func\n",
    "from sqlalchemy import Column, Integer, String,Float\n",
    "from sqlalchemy.ext.declarative import declarative_base"
   ]
  },
  {
   "cell_type": "code",
   "execution_count": 3,
   "id": "1efdf3c6-571c-4c25-92e2-b7160ea31ae8",
   "metadata": {},
   "outputs": [
    {
     "name": "stderr",
     "output_type": "stream",
     "text": [
      "C:\\Users\\ecari\\AppData\\Local\\Temp\\ipykernel_30540\\1447968813.py:2: MovedIn20Warning: The ``declarative_base()`` function is now available as sqlalchemy.orm.declarative_base(). (deprecated since: 2.0) (Background on SQLAlchemy 2.0 at: https://sqlalche.me/e/b8d9)\n",
      "  Base = declarative_base()\n"
     ]
    }
   ],
   "source": [
    "#Create a base class for declaring class definitions to produce table objects\n",
    "Base = declarative_base()"
   ]
  },
  {
   "cell_type": "code",
   "execution_count": 4,
   "id": "738c85cf-c868-4cf1-a568-9b5a200dff50",
   "metadata": {},
   "outputs": [],
   "source": [
    "#Define Light Pollution Table schema with ' ' as primary key\n",
    "class lightpollution (Base):\n",
    "    __tablename__='lightpollution'\n",
    "    table_key = Column(Integer, primary_key=True)\n",
    "    ObsDateTime = Column(String)\n",
    "    Latitude = Column(Float)\n",
    "    Longitude = Column(Float)\n",
    "    Elevation = Column(Float)\n",
    "    NELM = Column(Float)\n",
    "    Constellation = Column(String)\n",
    "    State = Column(String)\n",
    "    Bortle_Class = Column(String);"
   ]
  },
  {
   "cell_type": "code",
   "execution_count": 5,
   "id": "26305663-25e6-44cb-9949-80fe5c34fb86",
   "metadata": {},
   "outputs": [
    {
     "data": {
      "text/html": [
       "<div>\n",
       "<style scoped>\n",
       "    .dataframe tbody tr th:only-of-type {\n",
       "        vertical-align: middle;\n",
       "    }\n",
       "\n",
       "    .dataframe tbody tr th {\n",
       "        vertical-align: top;\n",
       "    }\n",
       "\n",
       "    .dataframe thead th {\n",
       "        text-align: right;\n",
       "    }\n",
       "</style>\n",
       "<table border=\"1\" class=\"dataframe\">\n",
       "  <thead>\n",
       "    <tr style=\"text-align: right;\">\n",
       "      <th></th>\n",
       "      <th>table_key</th>\n",
       "      <th>ObsDateTime</th>\n",
       "      <th>Latitude</th>\n",
       "      <th>Longitude</th>\n",
       "      <th>Elevation</th>\n",
       "      <th>NELM</th>\n",
       "      <th>Constellation</th>\n",
       "      <th>State</th>\n",
       "      <th>Bortle_Class</th>\n",
       "    </tr>\n",
       "  </thead>\n",
       "  <tbody>\n",
       "    <tr>\n",
       "      <th>0</th>\n",
       "      <td>0</td>\n",
       "      <td>2022-11-21 20:45:00+00:00</td>\n",
       "      <td>31.334094</td>\n",
       "      <td>-109.521212</td>\n",
       "      <td>1249.21000</td>\n",
       "      <td>0.0</td>\n",
       "      <td>Canis Major</td>\n",
       "      <td>Arizona</td>\n",
       "      <td>Brighter rural</td>\n",
       "    </tr>\n",
       "    <tr>\n",
       "      <th>1</th>\n",
       "      <td>1</td>\n",
       "      <td>2022-11-21 20:36:00+00:00</td>\n",
       "      <td>31.334086</td>\n",
       "      <td>-109.503952</td>\n",
       "      <td>1258.78000</td>\n",
       "      <td>0.0</td>\n",
       "      <td>Canis Major</td>\n",
       "      <td>Arizona</td>\n",
       "      <td>Brighter rural</td>\n",
       "    </tr>\n",
       "    <tr>\n",
       "      <th>2</th>\n",
       "      <td>2</td>\n",
       "      <td>2022-11-21 20:32:00+00:00</td>\n",
       "      <td>31.334107</td>\n",
       "      <td>-109.487273</td>\n",
       "      <td>1288.52000</td>\n",
       "      <td>0.0</td>\n",
       "      <td>Canis Major</td>\n",
       "      <td>Arizona</td>\n",
       "      <td>Brighter rural</td>\n",
       "    </tr>\n",
       "    <tr>\n",
       "      <th>3</th>\n",
       "      <td>3</td>\n",
       "      <td>2022-11-21 20:26:00+00:00</td>\n",
       "      <td>31.334069</td>\n",
       "      <td>-109.470129</td>\n",
       "      <td>1311.26000</td>\n",
       "      <td>5.0</td>\n",
       "      <td>Canis Major</td>\n",
       "      <td>Arizona</td>\n",
       "      <td>Brighter rural</td>\n",
       "    </tr>\n",
       "    <tr>\n",
       "      <th>4</th>\n",
       "      <td>4</td>\n",
       "      <td>2022-11-21 20:22:00+00:00</td>\n",
       "      <td>31.334055</td>\n",
       "      <td>-109.453368</td>\n",
       "      <td>1340.61000</td>\n",
       "      <td>5.0</td>\n",
       "      <td>Canis Major</td>\n",
       "      <td>Arizona</td>\n",
       "      <td>Brighter rural</td>\n",
       "    </tr>\n",
       "    <tr>\n",
       "      <th>...</th>\n",
       "      <td>...</td>\n",
       "      <td>...</td>\n",
       "      <td>...</td>\n",
       "      <td>...</td>\n",
       "      <td>...</td>\n",
       "      <td>...</td>\n",
       "      <td>...</td>\n",
       "      <td>...</td>\n",
       "      <td>...</td>\n",
       "    </tr>\n",
       "    <tr>\n",
       "      <th>5851</th>\n",
       "      <td>5851</td>\n",
       "      <td>2022-01-02 15:52:00+00:00</td>\n",
       "      <td>38.662200</td>\n",
       "      <td>-78.447200</td>\n",
       "      <td>260.95400</td>\n",
       "      <td>1.0</td>\n",
       "      <td>Orion</td>\n",
       "      <td>Virginia</td>\n",
       "      <td>Brighter rural</td>\n",
       "    </tr>\n",
       "    <tr>\n",
       "      <th>5852</th>\n",
       "      <td>5852</td>\n",
       "      <td>2022-01-02 12:01:00+00:00</td>\n",
       "      <td>36.904900</td>\n",
       "      <td>-111.460000</td>\n",
       "      <td>1298.82000</td>\n",
       "      <td>4.0</td>\n",
       "      <td>Orion</td>\n",
       "      <td>Arizona</td>\n",
       "      <td>Brighter rural</td>\n",
       "    </tr>\n",
       "    <tr>\n",
       "      <th>5853</th>\n",
       "      <td>5853</td>\n",
       "      <td>2022-01-02 13:23:00+00:00</td>\n",
       "      <td>29.592900</td>\n",
       "      <td>-95.110500</td>\n",
       "      <td>6.99699</td>\n",
       "      <td>3.0</td>\n",
       "      <td>Orion</td>\n",
       "      <td>Texas</td>\n",
       "      <td>Brighter rural</td>\n",
       "    </tr>\n",
       "    <tr>\n",
       "      <th>5854</th>\n",
       "      <td>5854</td>\n",
       "      <td>2022-01-01 07:15:00+00:00</td>\n",
       "      <td>38.589000</td>\n",
       "      <td>-78.423900</td>\n",
       "      <td>383.77300</td>\n",
       "      <td>4.0</td>\n",
       "      <td>Orion</td>\n",
       "      <td>Virginia</td>\n",
       "      <td>Brighter rural</td>\n",
       "    </tr>\n",
       "    <tr>\n",
       "      <th>5855</th>\n",
       "      <td>5855</td>\n",
       "      <td>2021-12-31 18:32:00+00:00</td>\n",
       "      <td>38.888000</td>\n",
       "      <td>-119.819000</td>\n",
       "      <td>1461.36000</td>\n",
       "      <td>4.0</td>\n",
       "      <td>Orion</td>\n",
       "      <td>Nevada</td>\n",
       "      <td>Brighter rural</td>\n",
       "    </tr>\n",
       "  </tbody>\n",
       "</table>\n",
       "<p>5856 rows × 9 columns</p>\n",
       "</div>"
      ],
      "text/plain": [
       "      table_key                ObsDateTime   Latitude   Longitude   Elevation  \\\n",
       "0             0  2022-11-21 20:45:00+00:00  31.334094 -109.521212  1249.21000   \n",
       "1             1  2022-11-21 20:36:00+00:00  31.334086 -109.503952  1258.78000   \n",
       "2             2  2022-11-21 20:32:00+00:00  31.334107 -109.487273  1288.52000   \n",
       "3             3  2022-11-21 20:26:00+00:00  31.334069 -109.470129  1311.26000   \n",
       "4             4  2022-11-21 20:22:00+00:00  31.334055 -109.453368  1340.61000   \n",
       "...         ...                        ...        ...         ...         ...   \n",
       "5851       5851  2022-01-02 15:52:00+00:00  38.662200  -78.447200   260.95400   \n",
       "5852       5852  2022-01-02 12:01:00+00:00  36.904900 -111.460000  1298.82000   \n",
       "5853       5853  2022-01-02 13:23:00+00:00  29.592900  -95.110500     6.99699   \n",
       "5854       5854  2022-01-01 07:15:00+00:00  38.589000  -78.423900   383.77300   \n",
       "5855       5855  2021-12-31 18:32:00+00:00  38.888000 -119.819000  1461.36000   \n",
       "\n",
       "      NELM Constellation     State    Bortle_Class  \n",
       "0      0.0   Canis Major   Arizona  Brighter rural  \n",
       "1      0.0   Canis Major   Arizona  Brighter rural  \n",
       "2      0.0   Canis Major   Arizona  Brighter rural  \n",
       "3      5.0   Canis Major   Arizona  Brighter rural  \n",
       "4      5.0   Canis Major   Arizona  Brighter rural  \n",
       "...    ...           ...       ...             ...  \n",
       "5851   1.0         Orion  Virginia  Brighter rural  \n",
       "5852   4.0         Orion   Arizona  Brighter rural  \n",
       "5853   3.0         Orion     Texas  Brighter rural  \n",
       "5854   4.0         Orion  Virginia  Brighter rural  \n",
       "5855   4.0         Orion    Nevada  Brighter rural  \n",
       "\n",
       "[5856 rows x 9 columns]"
      ]
     },
     "execution_count": 5,
     "metadata": {},
     "output_type": "execute_result"
    }
   ],
   "source": [
    "# File to Load (Remember to Change These)\n",
    "lightdata = Path(\"lightpol_final.csv\")\n",
    "\n",
    "# Read School and Student Data File and store into Pandas DataFrames\n",
    "lightpollution = pd.read_csv(lightdata)\n",
    "lightpollution = lightpollution.rename(columns={'Bortle Class':'Bortle_Class'})\n",
    "lightpollution = lightpollution.reset_index(names=['table_key'])\n",
    "lightpollution"
   ]
  },
  {
   "cell_type": "code",
   "execution_count": 6,
   "id": "09114712-f23b-467e-9f8f-9e81a75313b7",
   "metadata": {},
   "outputs": [],
   "source": [
    "# create engine to Resources\n",
    "engine = create_engine(\"sqlite:///./final_lightpollution.sqlite\")\n",
    "Base.metadata.create_all(engine)"
   ]
  },
  {
   "cell_type": "code",
   "execution_count": 7,
   "id": "100c9924-7254-493d-a3e0-e2f69b36c228",
   "metadata": {},
   "outputs": [],
   "source": [
    "# reflect an existing database into a new model\n",
    "# Base = automap_base()\n",
    "# reflect the tables\n",
    "# Base.prepare(autoload_with=engine)"
   ]
  },
  {
   "cell_type": "code",
   "execution_count": 8,
   "id": "6d1a7a7e-9cd6-4ddc-b4d1-194cb8ac9f19",
   "metadata": {},
   "outputs": [],
   "source": [
    "# View all of the classes that automap found\n",
    "#Base.classes.keys()"
   ]
  },
  {
   "cell_type": "code",
   "execution_count": 9,
   "id": "371b7a1d-d13a-4d9f-907e-7caf9c388537",
   "metadata": {},
   "outputs": [],
   "source": [
    "# Save references to each table\n",
    "#lightpollution = Base.classes.lightpollution\n"
   ]
  },
  {
   "cell_type": "code",
   "execution_count": 10,
   "id": "470eabb1-a46d-42b2-a37a-17d5711b7659",
   "metadata": {},
   "outputs": [],
   "source": [
    "# Create our session (link) from Python to the DB\n",
    "session = Session(bind=engine)"
   ]
  },
  {
   "cell_type": "code",
   "execution_count": 11,
   "id": "57e26629-03d0-4c44-8922-fc7113c1bdd0",
   "metadata": {},
   "outputs": [
    {
     "data": {
      "text/plain": [
       "5856"
      ]
     },
     "execution_count": 11,
     "metadata": {},
     "output_type": "execute_result"
    }
   ],
   "source": [
    "# Load data into database table\n",
    "lightpollution.to_sql(name=\"lightpollution\", con=engine, if_exists='append',index=False)"
   ]
  },
  {
   "cell_type": "code",
   "execution_count": 12,
   "id": "cb998647-f0e2-4ae1-a460-a2156c25adc7",
   "metadata": {},
   "outputs": [],
   "source": [
    "# Close Session\n",
    "session.close()"
   ]
  }
 ],
 "metadata": {
  "kernelspec": {
   "display_name": "Python 3 (ipykernel)",
   "language": "python",
   "name": "python3"
  },
  "language_info": {
   "codemirror_mode": {
    "name": "ipython",
    "version": 3
   },
   "file_extension": ".py",
   "mimetype": "text/x-python",
   "name": "python",
   "nbconvert_exporter": "python",
   "pygments_lexer": "ipython3",
   "version": "3.11.4"
  }
 },
 "nbformat": 4,
 "nbformat_minor": 5
}
